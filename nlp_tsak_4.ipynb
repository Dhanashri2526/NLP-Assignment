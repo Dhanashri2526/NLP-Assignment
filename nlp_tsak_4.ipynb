{
  "nbformat": 4,
  "nbformat_minor": 0,
  "metadata": {
    "colab": {
      "provenance": [],
      "authorship_tag": "ABX9TyPVI3nhg2jku3vx25QcgstB",
      "include_colab_link": true
    },
    "kernelspec": {
      "name": "python3",
      "display_name": "Python 3"
    },
    "language_info": {
      "name": "python"
    },
    "accelerator": "GPU",
    "gpuClass": "standard"
  },
  "cells": [
    {
      "cell_type": "markdown",
      "metadata": {
        "id": "view-in-github",
        "colab_type": "text"
      },
      "source": [
        "<a href=\"https://colab.research.google.com/github/Dhanashri2526/NLP-Assignment-/blob/main/nlp_tsak_4.ipynb\" target=\"_parent\"><img src=\"https://colab.research.google.com/assets/colab-badge.svg\" alt=\"Open In Colab\"/></a>"
      ]
    },
    {
      "cell_type": "markdown",
      "source": [
        "#Create a chatbot for Hotel Management to Book Rooms "
      ],
      "metadata": {
        "id": "jJSVAnt8NYEP"
      }
    },
    {
      "cell_type": "markdown",
      "source": [
        "####SET THE ENVIRONMENT "
      ],
      "metadata": {
        "id": "3nDv5iuApDZ0"
      }
    },
    {
      "cell_type": "code",
      "execution_count": null,
      "metadata": {
        "colab": {
          "base_uri": "https://localhost:8080/"
        },
        "id": "mU_psJp_kLjD",
        "outputId": "07504c2d-fa4d-418c-f568-1de44ce2237b"
      },
      "outputs": [
        {
          "output_type": "stream",
          "name": "stderr",
          "text": [
            "[nltk_data] Downloading package punkt to /root/nltk_data...\n",
            "[nltk_data]   Unzipping tokenizers/punkt.zip.\n"
          ]
        }
      ],
      "source": [
        "import numpy as np\n",
        "import torch\n",
        "import torch.nn as nn\n",
        "from torch.utils.data import Dataset, DataLoader\n",
        "import tensorflow as tf\n",
        "import nltk\n",
        "nltk.download('punkt')\n",
        "from nltk.stem.porter import PorterStemmer\n",
        "\n",
        "from datetime import datetime\n",
        "import random\n",
        "import string\n",
        "import pandas as pd\n",
        "import tensorflow as tf"
      ]
    },
    {
      "cell_type": "code",
      "source": [
        "# Get the GPU device name\n",
        "device_name = tf.test.gpu_device_name()\n",
        "\n",
        "# The device name should look like the following:\n",
        "if device_name == '/device:GPU:0':\n",
        "    print('Found GPU at: {}'.format(device_name))\n",
        "else:\n",
        "    raise SystemError('GPU not available')"
      ],
      "metadata": {
        "colab": {
          "base_uri": "https://localhost:8080/"
        },
        "id": "TyFm0NqHkNCp",
        "outputId": "0bfb9c2e-a51e-4ced-ea7e-aa4e228b5f8d"
      },
      "execution_count": null,
      "outputs": [
        {
          "output_type": "stream",
          "name": "stdout",
          "text": [
            "Found GPU at: /device:GPU:0\n"
          ]
        }
      ]
    },
    {
      "cell_type": "code",
      "source": [
        "# If there's a GPU available...\n",
        "if torch.cuda.is_available():    \n",
        "\n",
        "    # Tell PyTorch to use the GPU   \n",
        "    device = torch.device(\"cuda\")\n",
        "\n",
        "    print('There are {} GPU(s) available.'.format(torch.cuda.device_count()))\n",
        "\n",
        "    print('GPU name:', torch.cuda.get_device_name(0))\n",
        "\n",
        "# If not, use the CPU\n",
        "else:\n",
        "    print('GPU not found, using the CPU instead.')\n",
        "    device = torch.device(\"cpu\")"
      ],
      "metadata": {
        "colab": {
          "base_uri": "https://localhost:8080/"
        },
        "id": "fxjMjdAjlHUY",
        "outputId": "71af49f7-eef1-4fbe-f4da-989bdac323f1"
      },
      "execution_count": null,
      "outputs": [
        {
          "output_type": "stream",
          "name": "stdout",
          "text": [
            "There are 1 GPU(s) available.\n",
            "GPU name: Tesla T4\n"
          ]
        }
      ]
    },
    {
      "cell_type": "markdown",
      "source": [
        "####CREATE TRAINING DATA"
      ],
      "metadata": {
        "id": "Rv0Q-C8epY4y"
      }
    },
    {
      "cell_type": "code",
      "source": [
        "# Create a dictionary with your training data\n",
        "intents = {\n",
        "    'intents': [\n",
        "        {\n",
        "            'tag': 'greeting',\n",
        "            'patterns': [\n",
        "                'Hi',\n",
        "                'Hey',\n",
        "                'Hello',\n",
        "                'How are you',\n",
        "                'Is anyone there?',\n",
        "                'Good day'\n",
        "            ],\n",
        "            'responses': [\n",
        "                'Hey',\n",
        "                'Hello, thanks for visiting',\n",
        "                'Hi there, what can I do for you?',\n",
        "                'Hi there, how can I help?'\n",
        "            ]\n",
        "        },\n",
        "        {\n",
        "            'tag': 'goodbye',\n",
        "            'patterns': [\n",
        "                'Bye',\n",
        "                'See you later',\n",
        "                'Goodbye'\n",
        "            ],\n",
        "            'responses': [\n",
        "                'See you later, thanks for visiting',\n",
        "                'Have a nice day',\n",
        "                'Bye! Come back again soon'\n",
        "            ]\n",
        "        },\n",
        "        {\n",
        "            'tag': 'thanks',\n",
        "            'patterns': [\n",
        "                'Thanks',\n",
        "                'Thank you',\n",
        "                \"That's helpful\",\n",
        "                'Thanks a lot!'\n",
        "            ],\n",
        "            'responses': [\n",
        "                'Happy to help!',\n",
        "                'Anytime!',\n",
        "                \"My pleasure\"\n",
        "            ]\n",
        "        },\n",
        "        {\n",
        "            'tag': 'booking',\n",
        "            'patterns': [\n",
        "                'I would like to make a reservation',\n",
        "                'Can I book a room?',\n",
        "                \"I want to make a booking\"\n",
        "            ],\n",
        "            'responses': [\n",
        "                'Sure, I only need to know a few details',\n",
        "                \"Lovely. Let's begin with the reservation\"\n",
        "            ]\n",
        "        },\n",
        "        {\n",
        "            'tag': 'cancellation',\n",
        "            'patterns': [\n",
        "                'I would like to cancel my booking',\n",
        "                'Can I cancel a room?',\n",
        "                \"I want to make a cancellation\",\n",
        "                'Cancel a booking'\n",
        "            ],\n",
        "            'responses': [\n",
        "                'Sure, which is your reference number?',\n",
        "                \"I only need to know the reference number of your booking\"\n",
        "            ]\n",
        "        },\n",
        "        {\n",
        "            'tag': 'payments',\n",
        "            'patterns': [\n",
        "                'When do I have to pay?',\n",
        "                'Can I pay by card?',\n",
        "                \"Do you accept cash?\",\n",
        "                'When is the payment?'\n",
        "            ],\n",
        "            'responses': [\n",
        "                'The payment is on arrival. We accept cash and card',\n",
        "                'You can pay on arrival by cash or card'\n",
        "            ]\n",
        "        },\n",
        "        {\n",
        "            'tag': 'location',\n",
        "            'patterns': [\n",
        "                'Where is the hotel located?',\n",
        "                'Can you give me the address?',\n",
        "                \"I want to know the exact location\"\n",
        "            ],\n",
        "            'responses': [\n",
        "                'The Hollywood Hotel is located at Band Stand, BJ Road, Mount Mary, Bandra West, Mumbai, Maharashtra 400050 •022 6668 1234',\n",
        "                'You will find us at Band Stand, BJ Road, Mount Mary, Bandra West, Mumbai, Maharashtra 400050•022 6668 1234'\n",
        "            ]\n",
        "        },\n",
        "        {\n",
        "            'tag': 'contacts',\n",
        "            'patterns': [\n",
        "                'I would like to contact the marketing department',\n",
        "                'I want to speak with someone from sales',\n",
        "                \"Can I have the email of finance?\"\n",
        "            ],\n",
        "            'responses': [\n",
        "                'Sure. To contact with them, send an email to:',\n",
        "                'Of course. The email to contact with the department is:'\n",
        "            ]\n",
        "        }\n",
        "    ]\n",
        "}\n"
      ],
      "metadata": {
        "id": "qnaMtiW1lO9p"
      },
      "execution_count": null,
      "outputs": []
    },
    {
      "cell_type": "markdown",
      "source": [
        "####DATA PRE-PROCESSING"
      ],
      "metadata": {
        "id": "rbCcELsbpiA4"
      }
    },
    {
      "cell_type": "code",
      "source": [
        "stemmer = PorterStemmer()\n",
        "def tokenize(sentence):\n",
        "    '''\n",
        "    This function takes a sentence as an input,\n",
        "    and returns a list of its tokens\n",
        "    '''\n",
        "    return nltk.word_tokenize(sentence)\n",
        "\n",
        "def bag_of_words(tokenized_sentence, all_words):\n",
        "    '''\n",
        "    Function to represent a sentence into a vector of float numbers\n",
        "    input: list of tokens in a sent and a list of all the words in the text\n",
        "    output: vector equal to the vocab length for each sentence\n",
        "    '''\n",
        "    tokenized_sentence = [stemmer.stem(w.lower()) for w in tokenized_sentence]\n",
        "    bag = np.zeros(len(all_words), dtype=np.float32)\n",
        "    \n",
        "    for idx, w in enumerate(all_words):\n",
        "        if w in tokenized_sentence:\n",
        "            bag[idx] = 1.0\n",
        "    \n",
        "    return bag"
      ],
      "metadata": {
        "id": "6eP5H6APltix"
      },
      "execution_count": null,
      "outputs": []
    },
    {
      "cell_type": "markdown",
      "source": [
        "####BUILDING THE MODEL"
      ],
      "metadata": {
        "id": "GLKI306Tp9m7"
      }
    },
    {
      "cell_type": "code",
      "source": [
        "all_words = []\n",
        "tags = []\n",
        "xy = []\n",
        "\n",
        "# Save all the keywords in different variables\n",
        "for intent in intents['intents']:\n",
        "    tag= intent['tag']\n",
        "    tags.append(tag)\n",
        "    for pattern in intent['patterns']:\n",
        "        w = tokenize(pattern)\n",
        "        all_words.extend(w)\n",
        "        xy.append((w, tag))\n",
        "\n",
        "# Create the vocabulary\n",
        "ignore_words = ['?', '!', '.', ',']\n",
        "all_words = [stemmer.stem(w.lower()) for w in all_words if w not in ignore_words]\n",
        "all_words = sorted(set(all_words))\n",
        "tags = sorted(set(tags))"
      ],
      "metadata": {
        "id": "rjIZtIVOlznQ"
      },
      "execution_count": null,
      "outputs": []
    },
    {
      "cell_type": "code",
      "source": [
        "# Set the final training data\n",
        "X_train = []\n",
        "y_train = []\n",
        "for (pattern_sentence, tag) in xy:\n",
        "    bag = bag_of_words(pattern_sentence, all_words)\n",
        "    X_train.append(bag)\n",
        "    label = tags.index(tag)\n",
        "    y_train.append(label)\n",
        "\n",
        "X_train = np.array(X_train)\n",
        "y_train = np.array(y_train)"
      ],
      "metadata": {
        "id": "n3TC6NA7l7-Q"
      },
      "execution_count": null,
      "outputs": []
    },
    {
      "cell_type": "code",
      "source": [
        "class ChatDataset(Dataset):\n",
        "    def __init__(self):\n",
        "        self.n_samples = len(X_train)\n",
        "        self.x_data = X_train\n",
        "        self.y_data = y_train\n",
        "        \n",
        "    def __getitem__(self, index):\n",
        "        return self.x_data[index], self.y_data[index]\n",
        "    \n",
        "    def __len__(self):\n",
        "        return self.n_samples"
      ],
      "metadata": {
        "id": "yoSN2eJ-l9BR"
      },
      "execution_count": null,
      "outputs": []
    },
    {
      "cell_type": "code",
      "source": [
        "class NeuralNet(nn.Module):\n",
        "    def __init__(self, input_size, hidden_size, num_classes):\n",
        "        super(NeuralNet, self).__init__()\n",
        "        self.l1 = nn.Linear(input_size, hidden_size)\n",
        "        self.l2 = nn.Linear(hidden_size, hidden_size)\n",
        "        self.l3 = nn.Linear(hidden_size, num_classes)\n",
        "        self.relu = nn.ReLU()\n",
        "        \n",
        "    def forward(self, x):\n",
        "        out = self.l1(x)\n",
        "        out = self.relu(out)\n",
        "        out = self.l2(out)\n",
        "        out = self.relu(out)\n",
        "        out = self.l3(out)\n",
        "        # no activation and no softmax\n",
        "        return out"
      ],
      "metadata": {
        "id": "rAicVD0FmDgr"
      },
      "execution_count": null,
      "outputs": []
    },
    {
      "cell_type": "code",
      "source": [
        "# Hyperparameters\n",
        "batch_size=8\n",
        "hidden_size=8\n",
        "output_size=len(tags)\n",
        "input_size = len(X_train[0])\n",
        "learning_rate = 0.001\n",
        "num_epochs = 1000\n",
        "\n",
        "dataset = ChatDataset()\n",
        "train_loader = DataLoader(dataset=dataset, batch_size=batch_size, shuffle=True, num_workers=2)\n",
        "\n",
        "model = NeuralNet(input_size, hidden_size, output_size).to(device)"
      ],
      "metadata": {
        "id": "Q9ZCItWamJvs"
      },
      "execution_count": null,
      "outputs": []
    },
    {
      "cell_type": "code",
      "source": [
        "# Loss and optimizer\n",
        "criterion = nn.CrossEntropyLoss()\n",
        "optimizer = torch.optim.Adam(model.parameters(), lr=learning_rate)"
      ],
      "metadata": {
        "id": "TTBNS5qwmPYx"
      },
      "execution_count": null,
      "outputs": []
    },
    {
      "cell_type": "code",
      "source": [
        "for epoch in range(num_epochs):\n",
        "  for (words, labels) in train_loader:\n",
        "    words = words.to(device)\n",
        "    labels = labels.to(device)\n",
        "\n",
        "    # Forward\n",
        "    outputs = model(words)\n",
        "    loss = criterion(outputs,labels)\n",
        "\n",
        "    # Backward and optimizer\n",
        "    optimizer.zero_grad()\n",
        "    loss.backward()\n",
        "    optimizer.step()\n",
        "    \n",
        "  if (epoch + 1) % 100 == 0:\n",
        "    print(f'epoch {epoch + 1}/{num_epochs}, loss = {loss.item():.4f}')\n",
        "\n",
        "print(f'final loss, loss = {loss.item():.4f}')"
      ],
      "metadata": {
        "colab": {
          "base_uri": "https://localhost:8080/"
        },
        "id": "_CICPulXmUnW",
        "outputId": "939af545-99f3-4418-a9f2-af79b95e22bc"
      },
      "execution_count": null,
      "outputs": [
        {
          "output_type": "stream",
          "name": "stdout",
          "text": [
            "epoch 100/1000, loss = 1.0558\n",
            "epoch 200/1000, loss = 0.0938\n",
            "epoch 300/1000, loss = 0.0141\n",
            "epoch 400/1000, loss = 0.0063\n",
            "epoch 500/1000, loss = 0.0046\n",
            "epoch 600/1000, loss = 0.0029\n",
            "epoch 700/1000, loss = 0.0023\n",
            "epoch 800/1000, loss = 0.0012\n",
            "epoch 900/1000, loss = 0.0006\n",
            "epoch 1000/1000, loss = 0.0004\n",
            "final loss, loss = 0.0004\n"
          ]
        }
      ]
    },
    {
      "cell_type": "markdown",
      "source": [
        "####IMPLEMENT CHATBOT"
      ],
      "metadata": {
        "id": "2qOMXWsLqGuI"
      }
    },
    {
      "cell_type": "code",
      "source": [
        "all_bookings = pd.DataFrame()\n",
        "\n",
        "class Customer:\n",
        "    \n",
        "    rate = 99.00\n",
        "    \n",
        "    def __init__(self, name, dates, room, service):\n",
        "        self.name = name\n",
        "        self.dates = (datetime.strptime(dates[0], '%d/%m/%Y').date(), datetime.strptime(dates[1], '%d/%m/%Y').date())\n",
        "        self.room = room\n",
        "        self.service = service\n",
        "        \n",
        "    def ID(self):\n",
        "        letters = string.ascii_uppercase\n",
        "        digits = string.digits\n",
        "        a = random.sample(letters, 3) + random.sample(digits, 4)\n",
        "        self.id = ''.join(a)\n",
        "        \n",
        "    def nights(self):\n",
        "        nights = (self.dates[1] - self.dates[0]).days\n",
        "        return nights\n",
        "    \n",
        "    def final_price(self):\n",
        "        price = self.rate * float(self.nights())\n",
        "        return price\n",
        "    \n",
        "    def __str__(self):\n",
        "        return f'''\n",
        "        > Mr./Miss. {self.name[1]}, \n",
        "        >\n",
        "        > We are delighted to confirm your booking with us for the {self.dates[0]} till the {self.dates[1]}. \n",
        "        > A {self.room} with {self.service} for the final rate of £{self.rate} per night. \n",
        "        > Total price: £{self.final_price()}\n",
        "        > Your reference number is {self.id}. \n",
        "        > Keep this number in case you want to modify or cancel your booking in the future.\n",
        "        >\n",
        "        > Best,\n",
        "        > The Hollywood Hotel\n",
        "        '''      "
      ],
      "metadata": {
        "id": "HOHyY8iomaSa"
      },
      "execution_count": null,
      "outputs": []
    },
    {
      "cell_type": "code",
      "source": [
        "departments = {\n",
        "    'marketing': ['marketing', 'seo', 'community manager'],\n",
        "    'sales': ['reservations', 'sales', 'booking'],\n",
        "    'accountancy': ['accountancy', 'finance', 'purchase']\n",
        "}"
      ],
      "metadata": {
        "id": "49huWY2emn9T"
      },
      "execution_count": null,
      "outputs": []
    },
    {
      "cell_type": "code",
      "source": [
        "def contact_dept(user_sent, departments):\n",
        "  '''\n",
        "  Takes the sentence and all the departments as input \n",
        "  and returns the department email that the user wants to be contact with.\n",
        "  '''\n",
        "  email = None\n",
        "  for k,v in departments.items():\n",
        "    for d in user_sent:\n",
        "      if d in v:\n",
        "        email = f'{k}@5starhotel.com'\n",
        "  return email"
      ],
      "metadata": {
        "id": "uHHHk3KMmrtw"
      },
      "execution_count": null,
      "outputs": []
    },
    {
      "cell_type": "code",
      "source": [
        "model_dic = model.state_dict()\n",
        "model = NeuralNet(input_size, hidden_size, output_size)\n",
        "model.load_state_dict(model_dic)\n",
        "model.eval()\n",
        "\n",
        "bot_name = 'Bot '\n",
        "print(\"Let's chat: type 'quit' to exit\")\n",
        "\n",
        "while True:\n",
        "  sentence = input('You: ')\n",
        "  if sentence == 'quit':\n",
        "    break\n",
        "\n",
        "  sentence = tokenize(sentence)\n",
        "  X = bag_of_words(sentence, all_words)\n",
        "  X = X.reshape(1, X.shape[0])\n",
        "  X = torch.from_numpy(X)\n",
        "\n",
        "  output = model(X)\n",
        "  _,predicted = torch.max(output, dim=1)\n",
        "  tag = tags[predicted.item()]\n",
        "\n",
        "  probs = torch.softmax(output, dim=1)\n",
        "  prob = probs[0][predicted.item()]\n",
        "\n",
        "  if prob.item() > 0.75:\n",
        "    for intent in intents['intents']:\n",
        "      if tag == intent['tag']:\n",
        "\n",
        "        if tag == 'booking':\n",
        "            print(f\"{bot_name}: {random.choice(intent['responses'])}\")\n",
        "            # Stage 1: Customer's Name\n",
        "            f_name = input('\\tFirst Name: ')\n",
        "            l_name = input('\\tLast Name: ')\n",
        "\n",
        "            # Stage 2: Booking Dates\n",
        "            arr = input('\\tArrival day (DD/MM/YYYY): ')\n",
        "            dep = input('\\tDeparture day (DD/MM/YYYY): ')\n",
        "\n",
        "            # Stage 3: Room and service\n",
        "            room = input('\\tWhich type of room are you looking for?: ')\n",
        "            service = input('\\tWhich service do you prefer?: ')\n",
        "\n",
        "            # Stage 4: Confirmation and Final Rate\n",
        "            c1 = Customer((f_name, l_name), (arr, dep), room, service)\n",
        "            c1.ID()\n",
        "            all_bookings = all_bookings.append(c1.__dict__, ignore_index=True)\n",
        "            print(c1)\n",
        "        \n",
        "        elif tag == 'cancellation':\n",
        "            print(f\"{bot_name}: {random.choice(intent['responses'])}\")\n",
        "            ref_num = input('\\tReference number: ')\n",
        "            if ref_num in all_bookings['id'].values:\n",
        "              all_bookings = all_bookings.drop(all_bookings['id'][all_bookings['id'] == ref_num].index)\n",
        "              print('Your reservation has been canceled.')\n",
        "            else:\n",
        "              print('This reference number does not exist.')\n",
        "\n",
        "        elif tag == 'contacts':\n",
        "          contact_email = contact_dept(sentence, departments)\n",
        "          if contact_email != None:\n",
        "            print(f\"{bot_name}: {random.choice(intent['responses'])} {contact_email}\")\n",
        "          else: \n",
        "            print('Unfortunately this department does not exist.')\n",
        "        else:\n",
        "          print(f\"{bot_name}: {random.choice(intent['responses'])}\")\n",
        "  else:\n",
        "    print(f'{bot_name}: I do not understand...')"
      ],
      "metadata": {
        "colab": {
          "base_uri": "https://localhost:8080/"
        },
        "id": "dXw5jqQnnLI7",
        "outputId": "36d904f1-30e4-4173-e146-cd877bdbef3b"
      },
      "execution_count": null,
      "outputs": [
        {
          "name": "stdout",
          "output_type": "stream",
          "text": [
            "Let's chat: type 'quit' to exit\n",
            "You: hi\n",
            "Bot : Hi there, how can I help?\n",
            "You: You: You: Can I have the contact of the marketing department?\n",
            "Bot : Of course. The email to contact with the department is: marketing@5starhotel.com\n",
            "You: You: You: Which is the address of the hotel?\n",
            "Bot : You will find us at Band Stand, BJ Road, Mount Mary, Bandra West, Mumbai, Maharashtra 400050•022 6668 1234\n",
            "You: Great\n",
            "Bot : I do not understand...\n",
            "You: bye\n",
            "Bot : Have a nice day\n",
            "You: quit\n"
          ]
        }
      ]
    }
  ]
}