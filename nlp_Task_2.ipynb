{
  "nbformat": 4,
  "nbformat_minor": 0,
  "metadata": {
    "colab": {
      "provenance": [],
      "authorship_tag": "ABX9TyPSJ/8J6Qa2nDUfuKzxaqFY",
      "include_colab_link": true
    },
    "kernelspec": {
      "name": "python3",
      "display_name": "Python 3"
    },
    "language_info": {
      "name": "python"
    }
  },
  "cells": [
    {
      "cell_type": "markdown",
      "metadata": {
        "id": "view-in-github",
        "colab_type": "text"
      },
      "source": [
        "<a href=\"https://colab.research.google.com/github/Dhanashri2526/NLP-Assignment-/blob/main/nlp_Task_2.ipynb\" target=\"_parent\"><img src=\"https://colab.research.google.com/assets/colab-badge.svg\" alt=\"Open In Colab\"/></a>"
      ]
    },
    {
      "cell_type": "markdown",
      "source": [
        "#Create a program that needs to automatically correct that spelling from the word or a given sentence. (Language : English) "
      ],
      "metadata": {
        "id": "29nd92BnOBVO"
      }
    },
    {
      "cell_type": "code",
      "source": [
        "import pandas as pd"
      ],
      "metadata": {
        "id": "kpWayYNt-Om8"
      },
      "execution_count": null,
      "outputs": []
    },
    {
      "cell_type": "code",
      "source": [
        "incorrect_list=[\"accomodation\",\"adress\",\"accomodate\",\"wether\",\"rehersal\",\"commited\",\"persue\",\"occurence\",\"lenght\",\"strenght\",\"seperate\",\"appaling\",\"tought\",\"throught\",\"commision\",\"comission\",\"recieve\",\"collegue\",\"desease\",\"compell\",\"bizzare\",\"concious\",\"advertisment\",\"succint\",\"rythm\",\"wich\",\"wheather\",\"percieve\",\"occure\",\"enterpreneur\",\"aquire\",\"convinient\",\"devide\",\"agressive\",\"enviroment\",\"supress\",\"embarassed\",\"miniscule\",\"occured\",\"strech\",\"embarrased\",\"responsability\",\"assesment\",\"akward\",\"endevour\",\"belive\",\"wierd\",\"achive\",\"greatful\",\"biogrophay\"]"
      ],
      "metadata": {
        "id": "TmSydrV4_1i0"
      },
      "execution_count": null,
      "outputs": []
    },
    {
      "cell_type": "code",
      "source": [
        "data=pd.Series(incorrect_list)\n",
        "data"
      ],
      "metadata": {
        "colab": {
          "base_uri": "https://localhost:8080/"
        },
        "id": "HbAihA5V_8EJ",
        "outputId": "428a2da2-0246-4ae9-a627-06d5e1e1f497"
      },
      "execution_count": null,
      "outputs": [
        {
          "output_type": "execute_result",
          "data": {
            "text/plain": [
              "0       accomodation\n",
              "1             adress\n",
              "2         accomodate\n",
              "3             wether\n",
              "4           rehersal\n",
              "5           commited\n",
              "6             persue\n",
              "7          occurence\n",
              "8             lenght\n",
              "9           strenght\n",
              "10          seperate\n",
              "11          appaling\n",
              "12            tought\n",
              "13          throught\n",
              "14         commision\n",
              "15         comission\n",
              "16           recieve\n",
              "17          collegue\n",
              "18           desease\n",
              "19           compell\n",
              "20           bizzare\n",
              "21          concious\n",
              "22      advertisment\n",
              "23           succint\n",
              "24             rythm\n",
              "25              wich\n",
              "26          wheather\n",
              "27          percieve\n",
              "28            occure\n",
              "29      enterpreneur\n",
              "30            aquire\n",
              "31        convinient\n",
              "32            devide\n",
              "33         agressive\n",
              "34        enviroment\n",
              "35           supress\n",
              "36        embarassed\n",
              "37         miniscule\n",
              "38           occured\n",
              "39            strech\n",
              "40        embarrased\n",
              "41    responsability\n",
              "42         assesment\n",
              "43            akward\n",
              "44          endevour\n",
              "45            belive\n",
              "46             wierd\n",
              "47            achive\n",
              "48          greatful\n",
              "49        biogrophay\n",
              "dtype: object"
            ]
          },
          "metadata": {},
          "execution_count": 3
        }
      ]
    },
    {
      "cell_type": "code",
      "source": [
        "ss=data.to_string()"
      ],
      "metadata": {
        "id": "_EkZSTJWzNpg"
      },
      "execution_count": null,
      "outputs": []
    },
    {
      "cell_type": "code",
      "source": [
        "ss"
      ],
      "metadata": {
        "colab": {
          "base_uri": "https://localhost:8080/",
          "height": 128
        },
        "id": "VYl-otMTzQ1e",
        "outputId": "7f96da05-86b3-4a21-8007-f7b8cff1396e"
      },
      "execution_count": null,
      "outputs": [
        {
          "output_type": "execute_result",
          "data": {
            "text/plain": [
              "'0       accomodation\\n1             adress\\n2         accomodate\\n3             wether\\n4           rehersal\\n5           commited\\n6             persue\\n7          occurence\\n8             lenght\\n9           strenght\\n10          seperate\\n11          appaling\\n12            tought\\n13          throught\\n14         commision\\n15         comission\\n16           recieve\\n17          collegue\\n18           desease\\n19           compell\\n20           bizzare\\n21          concious\\n22      advertisment\\n23           succint\\n24             rythm\\n25              wich\\n26          wheather\\n27          percieve\\n28            occure\\n29      enterpreneur\\n30            aquire\\n31        convinient\\n32            devide\\n33         agressive\\n34        enviroment\\n35           supress\\n36        embarassed\\n37         miniscule\\n38           occured\\n39            strech\\n40        embarrased\\n41    responsability\\n42         assesment\\n43            akward\\n44          endevour\\n45            belive\\n46             wierd\\n47            achive\\n48          greatful\\n49        biogrophay'"
            ],
            "application/vnd.google.colaboratory.intrinsic+json": {
              "type": "string"
            }
          },
          "metadata": {},
          "execution_count": 6
        }
      ]
    },
    {
      "cell_type": "code",
      "source": [
        "from textblob import Word\n",
        "\n",
        "def check_word_spelling(word):\n",
        "  word = Word(word)\n",
        "\n",
        "  result = word.spellcheck()\n",
        "  print(result)\n",
        "\n",
        "  if word==result[0][0]:\n",
        "    print(f'Spelling of \"{word}\" is correct')\n",
        "  else:\n",
        "    print(f'Spelling of \"{word}\" is not correct')\n",
        "    print(f'Correct spelling of \"{word}\": \"{result[0][0]}\" (with{result[0][1]} confidence).')\n",
        "\n",
        "if __name__ == \"__main__\":\n",
        "  check_word_spelling(ss)"
      ],
      "metadata": {
        "id": "CxHgWPff6k90"
      },
      "execution_count": null,
      "outputs": []
    }
  ]
}